{
 "cells": [
  {
   "cell_type": "code",
   "execution_count": 18,
   "id": "21012f6c",
   "metadata": {},
   "outputs": [
    {
     "name": "stdout",
     "output_type": "stream",
     "text": [
      "Fecha: 20200501\n",
      "Casos confirmados: 1106124\n",
      "Fallecimientos: 61458\n",
      "Archivo JSON guardado en: /home/bigdata/Escritorio/Proyecto Covid Spark/old/datos_covid_20200501.json\n"
     ]
    }
   ],
   "source": [
    "import requests\n",
    "import os\n",
    "import json\n",
    "import shutil\n",
    "\n",
    "def obtener_datos_covid_por_fecha(fecha):\n",
    "    url = f\"https://api.covidtracking.com/v1/us/{fecha}.json\"\n",
    "    try:\n",
    "        response = requests.get(url)\n",
    "        if response.status_code == 200:\n",
    "            datos = response.json()\n",
    "            # Aquí puedes procesar los datos como desees\n",
    "            print(f\"Fecha: {datos['date']}\")\n",
    "            print(f\"Casos confirmados: {datos['positive']}\")\n",
    "            print(f\"Fallecimientos: {datos['death']}\")\n",
    "\n",
    "            # Definir la ruta de la carpeta \"old\"\n",
    "            carpeta_old = \"old\"\n",
    "            # Verificar si la carpeta \"old\" existe, si no, crearla\n",
    "            if not os.path.exists(carpeta_old):\n",
    "                os.makedirs(carpeta_old)\n",
    "\n",
    "            # Actualizar la ruta del archivo para que esté dentro de la carpeta \"old\"\n",
    "            nombre_archivo = os.path.join(carpeta_old, f\"datos_covid_{fecha}.json\")\n",
    "            with open(nombre_archivo, \"w\") as archivo:\n",
    "                json.dump(datos, archivo, indent=4)\n",
    "                print(f\"Archivo JSON guardado en: {os.path.abspath(nombre_archivo)}\")\n",
    "        else:\n",
    "            print(f\"Error al obtener datos (código de estado {response.status_code})\")\n",
    "    except Exception as e:\n",
    "        print(f\"Error: {e}\")\n",
    "\n",
    "if __name__ == \"__main__\":\n",
    "    fecha_deseada = \"20200501\"  # Cambia la fecha según tus necesidades\n",
    "    obtener_datos_covid_por_fecha(fecha_deseada)\n"
   ]
  },
  {
   "cell_type": "code",
   "execution_count": 19,
   "id": "559b3947",
   "metadata": {},
   "outputs": [
    {
     "name": "stdout",
     "output_type": "stream",
     "text": [
      "Archivos JSON de ciudades y países generados exitosamente.\n"
     ]
    }
   ],
   "source": [
    "import json\n",
    "\n",
    "def generar_datos_json_ciudades_paises():\n",
    "    # Generar datos de ejemplo para ciudades y países\n",
    "    datos_ciudades = [\n",
    "        {\"id\": 1, \"ID_ciudad\": 1, \"nombre_ciudad\": \"madrid\", \"coordenadas\": \"40.4168° N, 3.7038° W\"},\n",
    "        {\"id\": 2, \"ID_ciudad\": 2, \"nombre_ciudad\": \"paris\", \"coordenadas\": \"41.3851° N, 2.1734° E\"},\n",
    "        {\"id\": 3, \"ID_ciudad\": 3, \"nombre_ciudad\": \"roma\", \"coordenadas\": \"39.4699° N, 0.3763° W\"},\n",
    "        {\"id\": 4, \"ID_ciudad\": 4, \"nombre_ciudad\": \"pekin\", \"coordenadas\": \"37.3886° N, 5.9821° W\"},\n",
    "        {\"id\": 5, \"ID_ciudad\": 5, \"nombre_ciudad\": \"lima\", \"coordenadas\": \"43.2630° N, 2.9346° W\"},\n",
    "        {\"id\": 6, \"ID_ciudad\": 6, \"nombre_ciudad\": \"melburne\", \"coordenadas\": \"41.6488° N, 0.8891° W\"}\n",
    "    ]\n",
    "\n",
    "    datos_paises = [\n",
    "        {\"id\": 1, \"id_pais\": 1, \"nombre_pais\": \"España\"},\n",
    "        {\"id\": 2, \"id_pais\": 2, \"nombre_pais\": \"Francia\"},\n",
    "        {\"id\": 3, \"id_pais\": 3, \"nombre_pais\": \"Italia\"},\n",
    "        {\"id\": 4, \"id_pais\": 4, \"nombre_pais\": \"China\"},\n",
    "        {\"id\": 5, \"id_pais\": 5, \"nombre_pais\": \"Peru\"},\n",
    "        {\"id\": 6, \"id_pais\": 6, \"nombre_pais\": \"Australia\"}\n",
    "    ]\n",
    "\n",
    "    # Guardar datos de ciudades en JSON\n",
    "    with open(\"ciudades.json\", \"w\") as outfile:\n",
    "        json.dump(datos_ciudades, outfile, indent=4)\n",
    "\n",
    "    # Guardar datos de países en JSON\n",
    "    with open(\"paises.json\", \"w\") as outfile:\n",
    "        json.dump(datos_paises, outfile, indent=4)\n",
    "\n",
    "    print(\"Archivos JSON de ciudades y países generados exitosamente.\")\n",
    "\n",
    "# Invocar la función para generar los archivos JSON\n",
    "generar_datos_json_ciudades_paises()"
   ]
  },
  {
   "cell_type": "code",
   "execution_count": 20,
   "id": "bd3f4cd9",
   "metadata": {},
   "outputs": [
    {
     "name": "stdout",
     "output_type": "stream",
     "text": [
      "Archivo JSON combinado generado exitosamente.\n"
     ]
    }
   ],
   "source": [
    "import json\n",
    "\n",
    "def combinar_ciudades_paises_en_json(archivo_ciudades, archivo_paises, archivo_salida):\n",
    "    # Leer el archivo JSON de ciudades\n",
    "    with open(archivo_ciudades, \"r\") as file_ciudades:\n",
    "        datos_ciudades = json.load(file_ciudades)\n",
    "\n",
    "    # Leer el archivo JSON de países\n",
    "    with open(archivo_paises, \"r\") as file_paises:\n",
    "        datos_paises = json.load(file_paises)\n",
    "\n",
    "    # Combinar los datos de ciudades y países por el campo \"id\"\n",
    "    datos_combinados = {}\n",
    "    for ciudad in datos_ciudades:\n",
    "        ciudad_id = ciudad[\"id\"]\n",
    "        for pais in datos_paises:\n",
    "            pais_id = pais[\"id\"]\n",
    "            if ciudad_id == pais_id:\n",
    "                ciudad.update(pais)\n",
    "                datos_combinados[ciudad_id] = ciudad\n",
    "                break\n",
    "\n",
    "    # Guardar los datos combinados en un nuevo archivo JSON\n",
    "    with open(archivo_salida, \"w\") as file_salida:\n",
    "        json.dump(list(datos_combinados.values()), file_salida, indent=4)\n",
    "\n",
    "    print(\"Archivo JSON combinado generado exitosamente.\")\n",
    "\n",
    "# Ejemplo de uso:\n",
    "combinar_ciudades_paises_en_json(\"ciudades.json\", \"paises.json\", \"ciudades_paises_combinados.json\")\n"
   ]
  },
  {
   "cell_type": "code",
   "execution_count": 21,
   "id": "1f915313",
   "metadata": {},
   "outputs": [
    {
     "name": "stdout",
     "output_type": "stream",
     "text": [
      "Archivo JSON combinado con datos COVID generado exitosamente.\n",
      "Archivo 'ciudades_paises_combinados.json' movido a la carpeta 'old'.\n"
     ]
    }
   ],
   "source": [
    "import json\n",
    "\n",
    "def agregar_datos_covid_a_combinado(archivo_combinado, archivo_covid, archivo_salida):\n",
    "    # Leer el archivo JSON combinado de ciudades y países\n",
    "    with open(archivo_combinado, \"r\") as file_combinado:\n",
    "        datos_combinados = json.load(file_combinado)\n",
    "\n",
    "    # Leer el archivo JSON de datos COVID\n",
    "    with open(archivo_covid, \"r\") as file_covid:\n",
    "        datos_covid = json.load(file_covid)\n",
    "\n",
    "    # Agregar los campos de COVID a cada entrada del archivo combinado\n",
    "    for item in datos_combinados:\n",
    "        item.update(datos_covid)\n",
    "\n",
    "    # Guardar el archivo JSON actualizado\n",
    "    with open(archivo_salida, \"w\") as file_salida:\n",
    "        json.dump(datos_combinados, file_salida, indent=4)\n",
    "\n",
    "    print(\"Archivo JSON combinado con datos COVID generado exitosamente.\")\n",
    "    \n",
    "    # Mover el archivo combinado a la carpeta \"old\"\n",
    "    shutil.move(archivo_combinado, f\"old/{archivo_combinado}\")\n",
    "\n",
    "    print(f\"Archivo '{archivo_combinado}' movido a la carpeta 'old'.\")\n",
    "\n",
    "# Ejemplo de uso:\n",
    "agregar_datos_covid_a_combinado(\"ciudades_paises_combinados.json\", \"old/datos_covid_20200501.json\", \"ciudades_paises_covid_combinados.json\")\n"
   ]
  },
  {
   "cell_type": "code",
   "execution_count": 22,
   "id": "1f42b4ac",
   "metadata": {},
   "outputs": [
    {
     "name": "stdout",
     "output_type": "stream",
     "text": [
      "Los campos 'nombre_ciudad', 'nombre_pais' y 'coordenadas' han sido eliminados del archivo 'ciudades_paises_covid_combinados.json' y guardados en 'ciudades_paises_covid_combinados_sin_campos.json'.\n",
      "Archivo 'ciudades_paises_covid_combinados.json' movido a la carpeta 'old'.\n"
     ]
    }
   ],
   "source": [
    "import json\n",
    "\n",
    "def quitar_campos(archivo_entrada, archivo_salida):\n",
    "    # Leer el archivo JSON de entrada\n",
    "    with open(archivo_entrada, \"r\") as file_entrada:\n",
    "        datos = json.load(file_entrada)\n",
    "\n",
    "    # Eliminar los campos nombre_ciudad, nombre_pais y coordenadas de cada entrada\n",
    "    for entrada in datos:\n",
    "        del entrada[\"nombre_ciudad\"]\n",
    "        del entrada[\"nombre_pais\"]\n",
    "        del entrada[\"coordenadas\"]\n",
    "\n",
    "    # Guardar el archivo JSON actualizado\n",
    "    with open(archivo_salida, \"w\") as file_salida:\n",
    "        json.dump(datos, file_salida, indent=4)\n",
    "\n",
    "    print(f\"Los campos 'nombre_ciudad', 'nombre_pais' y 'coordenadas' han sido eliminados del archivo '{archivo_entrada}' y guardados en '{archivo_salida}'.\")\n",
    "\n",
    "    # Mover el archivo de entrada a la carpeta \"old\"\n",
    "    shutil.move(archivo_entrada, f\"old/{archivo_entrada}\")\n",
    "\n",
    "    print(f\"Archivo '{archivo_entrada}' movido a la carpeta 'old'.\")    \n",
    "    \n",
    "# Ejemplo de uso:\n",
    "quitar_campos(\"ciudades_paises_covid_combinados.json\", \"ciudades_paises_covid_combinados_sin_campos.json\")\n"
   ]
  },
  {
   "cell_type": "code",
   "execution_count": 23,
   "id": "89d25aa0",
   "metadata": {},
   "outputs": [
    {
     "name": "stdout",
     "output_type": "stream",
     "text": [
      "Archivo JSON replicado y modificado generado exitosamente.\n",
      "Archivo 'ciudades_paises_covid_combinados_sin_campos.json' movido a la carpeta 'old'.\n"
     ]
    }
   ],
   "source": [
    "import json\n",
    "import random\n",
    "from datetime import datetime, timedelta\n",
    "\n",
    "def convertir_tipo_fecha(datos):\n",
    "    for item in datos:\n",
    "        fecha_actual = item.get(\"date\", None)\n",
    "        if fecha_actual is not None:\n",
    "            fecha_datetime = datetime.strptime(str(fecha_actual), \"%Y%m%d\")\n",
    "            nueva_fecha = fecha_datetime.strftime(\"%Y-%m-%d\")\n",
    "            item[\"date\"] = nueva_fecha\n",
    "\n",
    "def replicar_y_modificar_datos(archivo_entrada, archivo_salida):\n",
    "    # Leer el archivo JSON de entrada\n",
    "    with open(archivo_entrada, \"r\") as file_entrada:\n",
    "        datos_entrada = json.load(file_entrada)\n",
    "\n",
    "    # Convertir el tipo de datos del campo de fecha\n",
    "    convertir_tipo_fecha(datos_entrada)\n",
    "\n",
    "    # Lista para almacenar los datos replicados y modificados\n",
    "    datos_salida = []\n",
    "\n",
    "    # Fecha inicial\n",
    "    fecha_inicial = datetime.strptime(\"2020-05-01\", \"%Y-%m-%d\")\n",
    "\n",
    "    # Replicar y modificar cada entrada en base al ID\n",
    "    for item in datos_entrada:\n",
    "        id_entrada = item.get(\"id\", None)\n",
    "        if id_entrada is not None:\n",
    "            # Reiniciar la fecha a \"2020-05-01\" cada vez que cambie el ID\n",
    "            fecha_actual = fecha_inicial\n",
    "\n",
    "            # Replicar la entrada 120 veces\n",
    "            for _ in range(120):\n",
    "                # Crear una copia de la entrada actual\n",
    "                nueva_entrada = item.copy()\n",
    "\n",
    "                # Generar un factor multiplicador aleatorio entre 0.5 y 1.5\n",
    "                factor_multiplicador = round(random.uniform(0.5, 1.5), 2)\n",
    "\n",
    "                # Aplicar el factor multiplicador a los valores numéricos, excepto al ID\n",
    "                for key, value in nueva_entrada.items():\n",
    "                    if isinstance(value, (int, float)) and key not in [\"id\", \"id_pais\", \"ID_ciudad\"]:\n",
    "                        nueva_entrada[key] = round(value * factor_multiplicador, 2)\n",
    "\n",
    "                # Actualizar la fecha\n",
    "                nueva_fecha = fecha_actual.strftime(\"%Y-%m-%d\")\n",
    "                nueva_entrada[\"date\"] = nueva_fecha\n",
    "\n",
    "                # Aumentar la fecha en un día\n",
    "                fecha_actual += timedelta(days=1)\n",
    "\n",
    "                # Agregar la nueva entrada a la lista de datos de salida\n",
    "                datos_salida.append(nueva_entrada)\n",
    "\n",
    "    # Guardar los datos replicados y modificados en un nuevo archivo JSON\n",
    "    with open(archivo_salida, \"w\") as file_salida:\n",
    "        json.dump(datos_salida, file_salida, indent=4)\n",
    "\n",
    "    print(\"Archivo JSON replicado y modificado generado exitosamente.\")\n",
    "    \n",
    "    # Mover el archivo de entrada a la carpeta \"old\"\n",
    "    shutil.move(archivo_entrada, f\"old/{archivo_entrada}\")\n",
    "\n",
    "    print(f\"Archivo '{archivo_entrada}' movido a la carpeta 'old'.\")  \n",
    "\n",
    "# Ejemplo de uso:\n",
    "replicar_y_modificar_datos(\"ciudades_paises_covid_combinados_sin_campos.json\", \"ciudades_paises_covid_replicados_modificados.json\")\n"
   ]
  },
  {
   "cell_type": "code",
   "execution_count": 24,
   "id": "4a012247",
   "metadata": {},
   "outputs": [
    {
     "name": "stdout",
     "output_type": "stream",
     "text": [
      "El archivo JSON contiene 720 entradas.\n"
     ]
    }
   ],
   "source": [
    "import json\n",
    "\n",
    "def contar_entradas_json(archivo):\n",
    "    # Leer el archivo JSON\n",
    "    with open(archivo, \"r\") as file:\n",
    "        datos = json.load(file)\n",
    "\n",
    "    # Contar el número de entradas en la lista\n",
    "    num_entradas = len(datos)\n",
    "\n",
    "    return num_entradas\n",
    "\n",
    "# Nombre del archivo JSON creado anteriormente\n",
    "archivo_json = \"ciudades_paises_covid_replicados_modificados.json\"\n",
    "\n",
    "# Llamar a la función para contar las entradas\n",
    "num_entradas = contar_entradas_json(archivo_json)\n",
    "\n",
    "print(\"El archivo JSON contiene\", num_entradas, \"entradas.\")\n"
   ]
  },
  {
   "cell_type": "code",
   "execution_count": 25,
   "id": "eff1f2b3",
   "metadata": {},
   "outputs": [
    {
     "name": "stdout",
     "output_type": "stream",
     "text": [
      "Se han agregado las columnas de fecha al archivo JSON exitosamente.\n",
      "Archivo 'ciudades_paises_covid_replicados_modificados.json' movido a la carpeta 'old'.\n"
     ]
    }
   ],
   "source": [
    "import json\n",
    "\n",
    "def agregar_columnas_fecha(archivo_entrada, archivo_salida):\n",
    "    # Leer el archivo JSON de entrada\n",
    "    with open(archivo_entrada, \"r\") as file_entrada:\n",
    "        datos_entrada = json.load(file_entrada)\n",
    "\n",
    "    # Agregar columnas de año, mes y día\n",
    "    for entrada in datos_entrada:\n",
    "        fecha_actual = entrada.get(\"date\", None)\n",
    "        if fecha_actual is not None:\n",
    "            # Obtener el año, mes y día de la fecha\n",
    "            year, month, day = map(int, fecha_actual.split(\"-\"))\n",
    "            # Agregar las nuevas columnas al diccionario\n",
    "            entrada[\"anyo\"] = year\n",
    "            entrada[\"mes\"] = month\n",
    "            entrada[\"dia\"] = day\n",
    "\n",
    "    # Guardar los datos con las nuevas columnas en un nuevo archivo JSON\n",
    "    with open(archivo_salida, \"w\") as file_salida:\n",
    "        json.dump(datos_entrada, file_salida, indent=4)\n",
    "\n",
    "    print(\"Se han agregado las columnas de fecha al archivo JSON exitosamente.\")\n",
    "    \n",
    "    # Mover el archivo de entrada a la carpeta \"old\"\n",
    "    shutil.move(archivo_entrada, f\"old/{archivo_entrada}\")\n",
    "\n",
    "    print(f\"Archivo '{archivo_entrada}' movido a la carpeta 'old'.\")  \n",
    "\n",
    "# Nombre del archivo JSON de entrada y salida\n",
    "archivo_entrada = \"ciudades_paises_covid_replicados_modificados.json\"\n",
    "archivo_salida = \"ciudades_paises_covid_con_fecha.json\"\n",
    "\n",
    "# Llamar a la función para agregar las columnas de fecha\n",
    "agregar_columnas_fecha(archivo_entrada, archivo_salida)\n"
   ]
  },
  {
   "cell_type": "code",
   "execution_count": 26,
   "id": "5c804559",
   "metadata": {},
   "outputs": [
    {
     "name": "stdout",
     "output_type": "stream",
     "text": [
      "Archivo JSON convertido a Parquet y guardado en la carpeta procesado exitosamente.\n"
     ]
    }
   ],
   "source": [
    "import os\n",
    "import pandas as pd\n",
    "import pyarrow as pa\n",
    "import pyarrow.parquet as pq\n",
    "\n",
    "def convertir_json_a_parquet(archivo_json, carpeta_procesado):\n",
    "    # Leer el archivo JSON\n",
    "    df = pd.read_json(archivo_json)\n",
    "\n",
    "    # Convertir el DataFrame a un objeto Table de PyArrow\n",
    "    table = pa.Table.from_pandas(df)\n",
    "\n",
    "    # Crear la carpeta \"procesado\" si no existe\n",
    "    if not os.path.exists(carpeta_procesado):\n",
    "        os.makedirs(carpeta_procesado)\n",
    "\n",
    "    # Nombre del archivo Parquet de salida\n",
    "    archivo_parquet = os.path.join(carpeta_procesado, \"ciudades_paises_covid_con_fecha.parquet\")\n",
    "\n",
    "    # Escribir el objeto Table en un archivo Parquet\n",
    "    pq.write_table(table, archivo_parquet)\n",
    "\n",
    "    print(\"Archivo JSON convertido a Parquet y guardado en la carpeta procesado exitosamente.\")\n",
    "\n",
    "# Nombre del archivo JSON convertido anteriormente\n",
    "archivo_json = \"ciudades_paises_covid_con_fecha.json\"\n",
    "\n",
    "# Carpeta donde se guardará el archivo Parquet\n",
    "carpeta_procesado = \"procesado\"\n",
    "\n",
    "# Llamar a la función para convertir el archivo JSON a Parquet\n",
    "convertir_json_a_parquet(archivo_json, carpeta_procesado)\n"
   ]
  },
  {
   "cell_type": "code",
   "execution_count": 27,
   "id": "194626d7",
   "metadata": {},
   "outputs": [
    {
     "name": "stdout",
     "output_type": "stream",
     "text": [
      "Archivo JSON 'ciudades.json' convertido a Parquet y guardado en la carpeta 'procesado' exitosamente: 'procesado/ciudades.parquet'.\n",
      "Archivo JSON 'paises.json' convertido a Parquet y guardado en la carpeta 'procesado' exitosamente: 'procesado/paises.parquet'.\n"
     ]
    }
   ],
   "source": [
    "import os\n",
    "import pandas as pd\n",
    "import pyarrow as pa\n",
    "import pyarrow.parquet as pq\n",
    "import json\n",
    "\n",
    "def convertir_json_a_parquet(archivo_json, carpeta_procesado):\n",
    "    # Leer el archivo JSON\n",
    "    with open(archivo_json, \"r\") as file_json:\n",
    "        datos_json = json.load(file_json)\n",
    "\n",
    "    # Crear un DataFrame de pandas desde los datos JSON\n",
    "    df = pd.DataFrame(datos_json)\n",
    "\n",
    "    # Convertir el DataFrame a un objeto Table de PyArrow\n",
    "    table = pa.Table.from_pandas(df)\n",
    "\n",
    "    # Crear la carpeta \"procesado\" si no existe\n",
    "    if not os.path.exists(carpeta_procesado):\n",
    "        os.makedirs(carpeta_procesado)\n",
    "\n",
    "    # Nombre del archivo Parquet de salida\n",
    "    archivo_parquet = os.path.join(carpeta_procesado, f\"{os.path.splitext(os.path.basename(archivo_json))[0]}.parquet\")\n",
    "\n",
    "    # Escribir el objeto Table en un archivo Parquet\n",
    "    pq.write_table(table, archivo_parquet)\n",
    "\n",
    "    print(f\"Archivo JSON '{archivo_json}' convertido a Parquet y guardado en la carpeta 'procesado' exitosamente: '{archivo_parquet}'.\")\n",
    "\n",
    "# Convertir el archivo de ciudades JSON a Parquet en la carpeta \"procesado\"\n",
    "convertir_json_a_parquet(\"ciudades.json\", \"procesado\")\n",
    "\n",
    "# Convertir el archivo de países JSON a Parquet en la carpeta \"procesado\"\n",
    "convertir_json_a_parquet(\"paises.json\", \"procesado\")\n"
   ]
  },
  {
   "cell_type": "code",
   "execution_count": 28,
   "id": "3413001a",
   "metadata": {},
   "outputs": [
    {
     "name": "stdout",
     "output_type": "stream",
     "text": [
      "Archivo 'ciudades.json' movido a la carpeta 'old'.\n",
      "Archivo 'ciudades_paises_covid_con_fecha.json' movido a la carpeta 'old'.\n",
      "Archivo 'paises.json' movido a la carpeta 'old'.\n"
     ]
    }
   ],
   "source": [
    "import shutil\n",
    "import os\n",
    "\n",
    "# Lista de archivos a mover\n",
    "archivos_a_mover = [\"ciudades.json\", \"ciudades_paises_covid_con_fecha.json\", \"paises.json\"]\n",
    "\n",
    "# Carpeta de destino\n",
    "carpeta_old = \"old\"\n",
    "\n",
    "# Mover cada archivo a la carpeta \"old\"\n",
    "for archivo in archivos_a_mover:\n",
    "    try:\n",
    "        shutil.move(archivo, os.path.join(carpeta_old, archivo))\n",
    "        print(f\"Archivo '{archivo}' movido a la carpeta 'old'.\")\n",
    "    except FileNotFoundError:\n",
    "        print(f\"¡Advertencia: el archivo '{archivo}' no se encontró para mover a la carpeta 'old'!\")"
   ]
  },
  {
   "cell_type": "code",
   "execution_count": null,
   "id": "13306910",
   "metadata": {},
   "outputs": [],
   "source": []
  }
 ],
 "metadata": {
  "kernelspec": {
   "display_name": "Python 3 (ipykernel)",
   "language": "python",
   "name": "python3"
  },
  "language_info": {
   "codemirror_mode": {
    "name": "ipython",
    "version": 3
   },
   "file_extension": ".py",
   "mimetype": "text/x-python",
   "name": "python",
   "nbconvert_exporter": "python",
   "pygments_lexer": "ipython3",
   "version": "3.10.12"
  }
 },
 "nbformat": 4,
 "nbformat_minor": 5
}
